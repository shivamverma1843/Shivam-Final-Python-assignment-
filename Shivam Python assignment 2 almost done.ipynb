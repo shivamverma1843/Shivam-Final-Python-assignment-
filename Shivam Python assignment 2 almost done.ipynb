{
 "cells": [
  {
   "cell_type": "code",
   "execution_count": 1,
   "id": "c4dd8924-4604-404f-9cfc-4b9b59c9c927",
   "metadata": {},
   "outputs": [
    {
     "name": "stdout",
     "output_type": "stream",
     "text": [
      "Hotel Management Application\n",
      "1. Add room\n",
      "2. Delete room\n",
      "3. Display room details\n",
      "4. Allocate room\n",
      "5. Display room allocation details\n",
      "6. Billing & De-allocation\n",
      "7. Save allocation to file\n",
      "8. Show allocation from file\n",
      "9. Backup file\n",
      "0. Exit Application\n"
     ]
    },
    {
     "name": "stdin",
     "output_type": "stream",
     "text": [
      "Enter your choice:  1\n",
      "Enter room number:  45\n",
      "Enter room type (Luxury / Standard/ King):  luxury\n",
      "Enter room price:  800\n",
      "Enter room features:  AC, PS5, QLED\n"
     ]
    },
    {
     "name": "stdout",
     "output_type": "stream",
     "text": [
      "Room added successfully!\n",
      "Hotel Management Application\n",
      "1. Add room\n",
      "2. Delete room\n",
      "3. Display room details\n",
      "4. Allocate room\n",
      "5. Display room allocation details\n",
      "6. Billing & De-allocation\n",
      "7. Save allocation to file\n",
      "8. Show allocation from file\n",
      "9. Backup file\n",
      "0. Exit Application\n"
     ]
    },
    {
     "name": "stdin",
     "output_type": "stream",
     "text": [
      "Enter your choice:  1\n",
      "Enter room number:  46\n",
      "Enter room type (Luxury / Standard/ King):  Standard\n",
      "Enter room price:  700\n",
      "Enter room features:  AC, LCD\n"
     ]
    },
    {
     "name": "stdout",
     "output_type": "stream",
     "text": [
      "Room added successfully!\n",
      "Hotel Management Application\n",
      "1. Add room\n",
      "2. Delete room\n",
      "3. Display room details\n",
      "4. Allocate room\n",
      "5. Display room allocation details\n",
      "6. Billing & De-allocation\n",
      "7. Save allocation to file\n",
      "8. Show allocation from file\n",
      "9. Backup file\n",
      "0. Exit Application\n"
     ]
    },
    {
     "name": "stdin",
     "output_type": "stream",
     "text": [
      "Enter your choice:  1\n",
      "Enter room number:  47\n",
      "Enter room type (Luxury / Standard/ King):  King\n",
      "Enter room price:  600\n",
      "Enter room features:  PS5\n"
     ]
    },
    {
     "name": "stdout",
     "output_type": "stream",
     "text": [
      "Room added successfully!\n",
      "Hotel Management Application\n",
      "1. Add room\n",
      "2. Delete room\n",
      "3. Display room details\n",
      "4. Allocate room\n",
      "5. Display room allocation details\n",
      "6. Billing & De-allocation\n",
      "7. Save allocation to file\n",
      "8. Show allocation from file\n",
      "9. Backup file\n",
      "0. Exit Application\n"
     ]
    },
    {
     "name": "stdin",
     "output_type": "stream",
     "text": [
      "Enter your choice:  2\n",
      "Enter room number to delete:  47\n"
     ]
    },
    {
     "name": "stdout",
     "output_type": "stream",
     "text": [
      "Room deleted successfully!\n",
      "Hotel Management Application\n",
      "1. Add room\n",
      "2. Delete room\n",
      "3. Display room details\n",
      "4. Allocate room\n",
      "5. Display room allocation details\n",
      "6. Billing & De-allocation\n",
      "7. Save allocation to file\n",
      "8. Show allocation from file\n",
      "9. Backup file\n",
      "0. Exit Application\n"
     ]
    },
    {
     "name": "stdin",
     "output_type": "stream",
     "text": [
      "Enter your choice:  3\n"
     ]
    },
    {
     "name": "stdout",
     "output_type": "stream",
     "text": [
      "Room number: 45, Room type: luxury, Room price: 800, Room features: AC, PS5, QLED\n",
      "Room number: 46, Room type: Standard, Room price: 700, Room features: AC, LCD\n",
      "Hotel Management Application\n",
      "1. Add room\n",
      "2. Delete room\n",
      "3. Display room details\n",
      "4. Allocate room\n",
      "5. Display room allocation details\n",
      "6. Billing & De-allocation\n",
      "7. Save allocation to file\n",
      "8. Show allocation from file\n",
      "9. Backup file\n",
      "0. Exit Application\n"
     ]
    },
    {
     "name": "stdin",
     "output_type": "stream",
     "text": [
      "Enter your choice:  4\n",
      "Enter room number to allocate:  45\n",
      "Enter customer name:  SHIVAM\n"
     ]
    },
    {
     "name": "stdout",
     "output_type": "stream",
     "text": [
      "Room allocated successfully!\n",
      "Hotel Management Application\n",
      "1. Add room\n",
      "2. Delete room\n",
      "3. Display room details\n",
      "4. Allocate room\n",
      "5. Display room allocation details\n",
      "6. Billing & De-allocation\n",
      "7. Save allocation to file\n",
      "8. Show allocation from file\n",
      "9. Backup file\n",
      "0. Exit Application\n"
     ]
    },
    {
     "name": "stdin",
     "output_type": "stream",
     "text": [
      "Enter your choice:  5\n"
     ]
    },
    {
     "name": "stdout",
     "output_type": "stream",
     "text": [
      "Room allocation status:\n",
      "Room Number: 45, Room type: luxury, Room Features: AC, PS5, QLED, Allocated: True, Customer Name: SHIVAM\n",
      "Room Number: 46, Room type: Standard, Room Features: AC, LCD, Allocated: False, Customer Name: \n",
      "Hotel Management Application\n",
      "1. Add room\n",
      "2. Delete room\n",
      "3. Display room details\n",
      "4. Allocate room\n",
      "5. Display room allocation details\n",
      "6. Billing & De-allocation\n",
      "7. Save allocation to file\n",
      "8. Show allocation from file\n",
      "9. Backup file\n",
      "0. Exit Application\n"
     ]
    },
    {
     "name": "stdin",
     "output_type": "stream",
     "text": [
      "Enter your choice:  6\n",
      "Enter room number for deallocation:  45\n",
      "Enter customer name:  SHIVAM\n",
      "Enter number of days stayed:  4\n"
     ]
    },
    {
     "name": "stdout",
     "output_type": "stream",
     "text": [
      "Bill amount: $3200.00\n",
      "Room deallocated successfully!\n",
      "Hotel Management Application\n",
      "1. Add room\n",
      "2. Delete room\n",
      "3. Display room details\n",
      "4. Allocate room\n",
      "5. Display room allocation details\n",
      "6. Billing & De-allocation\n",
      "7. Save allocation to file\n",
      "8. Show allocation from file\n",
      "9. Backup file\n",
      "0. Exit Application\n"
     ]
    },
    {
     "name": "stdin",
     "output_type": "stream",
     "text": [
      "Enter your choice:  7\n"
     ]
    },
    {
     "name": "stdout",
     "output_type": "stream",
     "text": [
      "Data saved to file successfully.\n",
      "Hotel Management Application\n",
      "1. Add room\n",
      "2. Delete room\n",
      "3. Display room details\n",
      "4. Allocate room\n",
      "5. Display room allocation details\n",
      "6. Billing & De-allocation\n",
      "7. Save allocation to file\n",
      "8. Show allocation from file\n",
      "9. Backup file\n",
      "0. Exit Application\n"
     ]
    },
    {
     "name": "stdin",
     "output_type": "stream",
     "text": [
      "Enter your choice:  8\n"
     ]
    },
    {
     "name": "stdout",
     "output_type": "stream",
     "text": [
      "45, luxury, 800, AC, PS5, QLED, False, \n",
      "46, Standard, 700, AC, LCD, False, \n",
      "\n",
      "Hotel Management Application\n",
      "1. Add room\n",
      "2. Delete room\n",
      "3. Display room details\n",
      "4. Allocate room\n",
      "5. Display room allocation details\n",
      "6. Billing & De-allocation\n",
      "7. Save allocation to file\n",
      "8. Show allocation from file\n",
      "9. Backup file\n",
      "0. Exit Application\n"
     ]
    },
    {
     "name": "stdin",
     "output_type": "stream",
     "text": [
      "Enter your choice:  9\n"
     ]
    },
    {
     "name": "stdout",
     "output_type": "stream",
     "text": [
      "Backup created successfully!\n",
      "Hotel Management Application\n",
      "1. Add room\n",
      "2. Delete room\n",
      "3. Display room details\n",
      "4. Allocate room\n",
      "5. Display room allocation details\n",
      "6. Billing & De-allocation\n",
      "7. Save allocation to file\n",
      "8. Show allocation from file\n",
      "9. Backup file\n",
      "0. Exit Application\n"
     ]
    },
    {
     "name": "stdin",
     "output_type": "stream",
     "text": [
      "Enter your choice:  0\n"
     ]
    }
   ],
   "source": [
    "rooms = []\n",
    "\n",
    "# 1. Add function is a function for adding a room \n",
    "def add_room():\n",
    "    try:\n",
    "        room_number = int(input(\"Enter room number: \")) # user input for room number\n",
    "        room_type = input(\"Enter room type (Luxury / Standard/ King): \") # user input for room type \n",
    "        room_price = int(input(\"Enter room price: \")) # user input for room price\n",
    "        room_features = input(\"Enter room features: \")\n",
    "        rooms.append({\"room_number\": room_number, \"room_type\": room_type, \"room_price\": room_price, \"room_features\": room_features, \"allocated\": False, \"customer_name\": \"\"})\n",
    "        print(\"Room added successfully!\")\n",
    "    except ValueError:\n",
    "        print(\"Value error: All fields are required and must be valid.\")\n",
    "\n",
    "# 2. Delete function is a function for deleting a room\n",
    "def delete_room():\n",
    "    try: \n",
    "        room_number = int(input(\"Enter room number to delete: \")) # user input to delete room number\n",
    "        for room in rooms:\n",
    "            if room[\"room_number\"] == room_number:\n",
    "                rooms.remove(room)\n",
    "                print(\"Room deleted successfully!\")\n",
    "                return \n",
    "        print(\"Room not found.\") \n",
    "    except ValueError: # provide value error for invalid number\n",
    "        print(\"Invalid input. Enter a valid number.\")\n",
    "    except TypeError:\n",
    "        print(\"Invalid input. Room number must be an integer.\")\n",
    "        \n",
    "# 3. Display function is a function for display room\n",
    "def display_room():\n",
    "    try:\n",
    "        if not rooms:\n",
    "            raise IndexError(\"No room record available.\")\n",
    "        for room in rooms:\n",
    "            print(f\"Room number: {room['room_number']}, Room type: {room['room_type']}, Room price: {room['room_price']}, Room features: {room['room_features']}\")\n",
    "    except IndexError:\n",
    "        print(\"No room available.\")\n",
    "    except KeyError:\n",
    "        print(\"Invalid room data.\")\n",
    "\n",
    "\n",
    "# Allocate function is used to allocate the room to the customer\n",
    "def allocate_room():\n",
    "    \"\"\"\n",
    "    This function allocates a room to a customer.\n",
    "    It checks if the room is available and updates the room statuts.\n",
    "    \"\"\"\n",
    "    try:\n",
    "        room_number = int(input(\"Enter room number to allocate: \")) # user input to enter room number\n",
    "        customer_name = input(\"Enter customer name: \") # user input to enter customer name \n",
    "        for room in rooms:\n",
    "            if room[\"room_number\"] == room_number and not room[\"allocated\"]:\n",
    "                room[\"allocated\"] = True\n",
    "                room[\"customer_name\"] = customer_name\n",
    "                print(\"Room allocated successfully!\")\n",
    "                return\n",
    "        print(\"Room not available or already allocated!\")\n",
    "    except ValueError:\n",
    "        print(\"Invalid input. Please enter a valid number.\")\n",
    "    except TypeError:\n",
    "        print(\"Invalid input. Room number must be an integer.\")\n",
    "\n",
    "def display_allocation():\n",
    "    try:\n",
    "        print(\"Room allocation status:\")\n",
    "        for room in rooms:\n",
    "            print(f\"Room Number: {room['room_number']}, Room type: {room['room_type']}, Room Features: {room['room_features']}, Allocated: {room['allocated']}, Customer Name: {room['customer_name']}\")\n",
    "    except IndexError:\n",
    "        print(\"No rooms available.\")\n",
    "    except KeyError:\n",
    "        print(\"Invalid room data. Please check room details.\")\n",
    "\n",
    "def billing_deallocation():\n",
    "    try:\n",
    "        room_number = int(input(\"Enter room number for deallocation: \"))\n",
    "        customer_name = input(\"Enter customer name: \")\n",
    "        for room in rooms:\n",
    "            if room[\"room_number\"] == room_number and room[\"allocated\"] and room[\"customer_name\"] == customer_name:\n",
    "                stay_days = int(input(\"Enter number of days stayed: \"))\n",
    "                bill_amount = room[\"room_price\"] * stay_days\n",
    "                print(f\"Bill amount: ${bill_amount:.2f}\")\n",
    "                room[\"allocated\"] = False\n",
    "                room[\"customer_name\"] = \"\"\n",
    "                print(\"Room deallocated successfully!\")\n",
    "                return\n",
    "        print(\"Room not found or not allocated to the specified customer.\")\n",
    "    except ValueError:\n",
    "        print(\"Invalid input. Enter a valid room number.\")\n",
    "    except TypeError:\n",
    "        print(\"Invalid input. Room number must be an integer.\")\n",
    "\n",
    "def save_to_file():\n",
    "    try:\n",
    "        with open(\"LHMS_Studentid764707237.txt\", \"w\") as file:\n",
    "            for room in rooms:\n",
    "                file.write(f\"{room['room_number']}, {room['room_type']}, {room['room_price']}, {room['room_features']}, {room['allocated']}, {room['customer_name']}\\n\")\n",
    "            print(\"Data saved to file successfully.\")\n",
    "    except IOError:\n",
    "        print(\"Error saving to file!\")\n",
    "\n",
    "def show_from_file():\n",
    "    try:\n",
    "        with open(\"LHMS_Studentid764707237.txt\", \"r\") as file:\n",
    "            content = file.read()\n",
    "            if content:\n",
    "                print(content)\n",
    "            else:\n",
    "                print(\"File is empty!\")\n",
    "    except FileNotFoundError:\n",
    "        print(\"File not found\")\n",
    "    except EOFError:\n",
    "        print(\"End of file reached!\")\n",
    "\n",
    "\n",
    "def display_room_from_file():\n",
    "    try:\n",
    "        with open(\"LHMS_Studentid764707237.txt\", \"r\") as file:\n",
    "            content = file.read()\n",
    "            print(\"Room allocation status from file:\")\n",
    "            for line in file:\n",
    "                room_data = line.strip().split(\", \")\n",
    "                print(f\"Room Number: {room_data[0]}, Room Type: {room_data[1]}, Room Price: {room_data[2]}, Room Features: {room_data[3]}, Allocated: {room_data[4]}, Customer Name: {room_data[5]}\")\n",
    "    except FileNotFoundError:\n",
    "        print(\"File not found.\")\n",
    "    except IOError:\n",
    "        print(\"Error reading from file!\")\n",
    "\n",
    "def backup_file():\n",
    "    try:\n",
    "        with open(\"LHMS_Studentid764707237.txt\", \"r\") as file:\n",
    "           content = file.read()\n",
    "        with open(f\"LHMS_Studentid764707237.txt\", \"w\") as backup_file:\n",
    "            backup_file.write(content)\n",
    "        with open(\"LHMS_Studentid764707237.txt\", \"w\") as file:\n",
    "            file.write(\"\")\n",
    "        print(\"Backup created successfully!\")\n",
    "    except FilenotFoundError:\n",
    "        print(\"File not found\")\n",
    "    except IOError:\n",
    "        print(\"Error writiing to file!\")\n",
    "\n",
    "\n",
    "def main():\n",
    "    while True:\n",
    "        try:\n",
    "            print(\"Hotel Management Application\")\n",
    "            print(\"1. Add room\")\n",
    "            print(\"2. Delete room\")\n",
    "            print(\"3. Display room details\")\n",
    "            print(\"4. Allocate room\")\n",
    "            print(\"5. Display room allocation details\")\n",
    "            print(\"6. Billing & De-allocation\")\n",
    "            print(\"7. Save allocation to file\")\n",
    "            print(\"8. Show allocation from file\")\n",
    "            print(\"9. Backup file\")\n",
    "            print(\"0. Exit Application\")\n",
    "            choice = input(\"Enter your choice: \")\n",
    "            if choice == \"1\":\n",
    "                add_room()\n",
    "            elif choice == \"2\":\n",
    "                delete_room()\n",
    "            elif choice == \"3\":\n",
    "                display_room()\n",
    "            elif choice == \"4\":\n",
    "                allocate_room()\n",
    "            elif choice == \"5\":\n",
    "                display_allocation()\n",
    "            elif choice == \"6\":\n",
    "                billing_deallocation()\n",
    "            elif choice == \"7\":\n",
    "                save_to_file()\n",
    "            elif choice == \"8\":\n",
    "                show_from_file()\n",
    "            elif choice ==\"9\":\n",
    "                backup_file()\n",
    "            elif choice == \"0\":\n",
    "                break\n",
    "            else:\n",
    "                print(\"Invalid choice.\")\n",
    "        except Exception as e:\n",
    "            print(f\"An error occurred: {e}\")\n",
    "\n",
    "if __name__ == \"__main__\":\n",
    "    main()\n",
    "\n",
    "\n",
    "\n",
    "\n",
    "\n",
    "            \n"
   ]
  },
  {
   "cell_type": "code",
   "execution_count": null,
   "id": "658dac34-ab89-45c9-8eef-166f39087194",
   "metadata": {},
   "outputs": [],
   "source": []
  }
 ],
 "metadata": {
  "kernelspec": {
   "display_name": "Python 3 (ipykernel)",
   "language": "python",
   "name": "python3"
  },
  "language_info": {
   "codemirror_mode": {
    "name": "ipython",
    "version": 3
   },
   "file_extension": ".py",
   "mimetype": "text/x-python",
   "name": "python",
   "nbconvert_exporter": "python",
   "pygments_lexer": "ipython3",
   "version": "3.11.7"
  }
 },
 "nbformat": 4,
 "nbformat_minor": 5
}
